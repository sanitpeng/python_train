{
 "cells": [
  {
   "cell_type": "code",
   "execution_count": 189,
   "metadata": {},
   "outputs": [],
   "source": [
    "# -*- encoding:utf-8 -*-\n",
    "from __future__ import print_function\n",
    "\n",
    "import os\n",
    "import pandas as pd\n",
    "import numpy as np\n",
    "import warnings\n",
    "\n",
    "import sys\n",
    "import shutil\n",
    "\n",
    "\n",
    "stdo = sys.stdout\n",
    "reload(sys)\n",
    "sys.setdefaultencoding('utf-8')\n",
    "sys.stdout= stdo\n",
    "\n"
   ]
  },
  {
   "cell_type": "code",
   "execution_count": 190,
   "metadata": {},
   "outputs": [],
   "source": [
    "\n",
    "def file_list(file_dir):\n",
    "    D = []\n",
    "    F = []\n",
    "    for root, dirs, files in os.walk(file_dir):\n",
    "        for file in files:\n",
    "            fn, ext = os.path.splitext(file)\n",
    "            if ext == '.jpg':\n",
    "                D.append(os.path.join(root, file))\n",
    "                F.append(fn)\n",
    "\n",
    "    l = np.array([D, F])\n",
    "    return l\n",
    "\n",
    "\n",
    "\n",
    "def init_env():\n",
    "    pass\n",
    "\n"
   ]
  },
  {
   "cell_type": "code",
   "execution_count": 191,
   "metadata": {},
   "outputs": [],
   "source": [
    "def file_sort(l):\n",
    "\n",
    "    order = []\n",
    "    for i, s in enumerate(l[1]):\n",
    "        num = int(s.split('-')[1])\n",
    "        num = str(num)\n",
    "        #右对齐3位\n",
    "        num = '{0:0>3}'.format(num)\n",
    "        order.append(num) \n",
    "\n",
    "    l = np.insert(l, 2, values = order, axis = 0)\n",
    "    a = np.argsort(l[2])\n",
    "\n",
    "\n",
    "    L = []\n",
    "    A = []\n",
    "    for i in a:\n",
    "        L.append(l[0,i])\n",
    "        A.append(l[2,i])\n",
    "\n",
    "    F = np.array([L, A])\n",
    "    return F\n"
   ]
  },
  {
   "cell_type": "code",
   "execution_count": 192,
   "metadata": {},
   "outputs": [],
   "source": [
    "def copy_book(book, dir):\n",
    "    for i, page in enumerate(book):\n",
    "        #fn = 'page{0:0>3}.jpg'.format(i+1)\n",
    "        fn = '第{0:0>3}页.jpg'.format(i+1)\n",
    "        fn = dir + fn\n",
    "        #print(page)\n",
    "        shutil.copyfile(page, fn)\n",
    "        #print(\"copy file\", fn)\n",
    "\n"
   ]
  },
  {
   "cell_type": "code",
   "execution_count": 193,
   "metadata": {
    "scrolled": false
   },
   "outputs": [],
   "source": [
    "init_env()\n",
    "\n",
    "\n",
    "#邓家第5次修谱\n",
    "l = file_list('/Users/sanit/personal/LP/1_1')\n",
    "book_1_1 = file_sort(l)\n",
    "\n",
    "#数据源问题，手工修正下\n",
    "bug = book_1_1[0, 4]\n",
    "book_1_1[0, 4] = book_1_1[0, 5]\n",
    "book_1_1[0, 5] = book_1_1[0, 6]\n",
    "book_1_1[0, 6] = bug\n",
    "\n",
    "bug = book_1_1[1, 5]\n",
    "book_1_1[1, 5] = book_1_1[1, 6]\n",
    "book_1_1[1, 6] = bug\n",
    "\n",
    "\n",
    "\n",
    "l = file_list('/Users/sanit/personal/LP/1_2')\n",
    "book_1_2 = file_sort(l)\n",
    "\n",
    "\n"
   ]
  },
  {
   "cell_type": "code",
   "execution_count": 194,
   "metadata": {},
   "outputs": [],
   "source": [
    "\n",
    "book = book_1_2[0].tolist()\n",
    "book.reverse()\n",
    "book = np.array(book)\n",
    "\n",
    "length = len(book_1_1[0]) - 1\n",
    "\n",
    "new_book = []\n",
    "for i, page in enumerate(book):\n",
    "    if (i <= length):\n",
    "        new_book.append(book_1_1[0, length - i])\n",
    "    new_book.append(page)\n",
    "        \n",
    "\n"
   ]
  },
  {
   "cell_type": "code",
   "execution_count": 195,
   "metadata": {
    "scrolled": false
   },
   "outputs": [],
   "source": [
    "\n",
    "        \n",
    "book = np.array(new_book)\n",
    "dir = '/Users/sanit/personal/LP/book1/'\n",
    "\n",
    "copy_book(book, dir)\n",
    "    "
   ]
  },
  {
   "cell_type": "code",
   "execution_count": 196,
   "metadata": {},
   "outputs": [],
   "source": [
    "#邓家第6次修谱\n",
    "l = file_list('/Users/sanit/personal/LP/2_1')\n",
    "book_2_1 = file_sort(l)\n",
    "\n",
    "l = file_list('/Users/sanit/personal/LP/2_2')\n",
    "book_2_2 = file_sort(l)\n",
    "\n",
    "\n",
    "book = book_2_2[0]\n",
    "\n",
    "length = len(book_2_1[0]) - 1\n",
    "\n",
    "new_book = []\n",
    "for i, page in enumerate(book):\n",
    "    new_book.append(page)\n",
    "    if (i <= length):\n",
    "        new_book.append(book_2_1[0, length - i])\n",
    "\n"
   ]
  },
  {
   "cell_type": "code",
   "execution_count": 197,
   "metadata": {
    "scrolled": false
   },
   "outputs": [],
   "source": [
    "book = np.array(new_book)\n",
    "dir = '/Users/sanit/personal/LP/book2/'\n",
    "\n",
    "copy_book(book, dir)\n"
   ]
  },
  {
   "cell_type": "code",
   "execution_count": 102,
   "metadata": {
    "scrolled": false
   },
   "outputs": [],
   "source": []
  },
  {
   "cell_type": "code",
   "execution_count": null,
   "metadata": {},
   "outputs": [],
   "source": []
  },
  {
   "cell_type": "code",
   "execution_count": null,
   "metadata": {},
   "outputs": [],
   "source": []
  }
 ],
 "metadata": {
  "kernelspec": {
   "display_name": "Python 2",
   "language": "python",
   "name": "python2"
  },
  "language_info": {
   "codemirror_mode": {
    "name": "ipython",
    "version": 2
   },
   "file_extension": ".py",
   "mimetype": "text/x-python",
   "name": "python",
   "nbconvert_exporter": "python",
   "pygments_lexer": "ipython2",
   "version": "2.7.15"
  }
 },
 "nbformat": 4,
 "nbformat_minor": 2
}
